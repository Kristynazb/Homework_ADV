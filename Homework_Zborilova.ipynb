{
 "cells": [
  {
   "cell_type": "code",
   "execution_count": 31,
   "metadata": {},
   "outputs": [],
   "source": [
    "class IandM:\n",
    "    def __init__(self):\n",
    "        self.default_values = {\n",
    "            'Block Header': b'\\x00 * 6',\n",
    "            'Manufacture ID': b'\\x00 * 2',\n",
    "            'Order Number': b' ' * 20,\n",
    "            'Serial Number': b' ' * 16,\n",
    "            'Hardware revision': b'\\x00 * 2',\n",
    "            'Software revision': b'\\x00 * 4',\n",
    "            'Revision status': b'\\x00 * 2',\n",
    "            'Profile ID': b'\\x00 * 2',\n",
    "            'Profile-specific type': b'\\x00 * 2',\n",
    "            'I&M Version': b'\\x00 * 2',\n",
    "            'I&M Support': b'\\x00 * 2'\n",
    "        }                      \n",
    "        self.data = {}\n",
    "\n",
    "    # Slice the data block into items and assign it to the correct field according to description.\n",
    "\n",
    "    def update(self, data):\n",
    "        self.data = {\n",
    "            'Block Header': int.from_bytes(data[:6], byteorder='big'),\n",
    "            'Manufacture ID': int.from_bytes(data[6:8], byteorder='big' ),\n",
    "            'Order Number': data[8:28].decode().strip(),\n",
    "            'Serial Number': data[28:44].decode().strip(),\n",
    "            'Hardware revision': int.from_bytes(data[44:46], byteorder='big'),\n",
    "            'Software revision': int.from_bytes(data[46:50], byteorder='big'),\n",
    "            'Revision status': int.from_bytes(data[50:52], byteorder='big'),\n",
    "            'Profile ID': int.from_bytes(data[52:54], byteorder='big'),\n",
    "            'Profile-specific type': int.from_bytes(data[54:56], byteorder='big'),\n",
    "            'I&M Version': data[56:58],\n",
    "            'I&M Support': int.from_bytes(data[58:60], byteorder='big')\n",
    "        }\n",
    "\n",
    "    # Print out each item of the content on a separate line.\n",
    "\n",
    "    def __repr__(self):\n",
    "        output = \"\"\n",
    "        for key, value in self.data.items():\n",
    "            output += f\"{key} = {value}\\n\"\n",
    "        return output\n",
    "    \n",
    "    # Compare item by item of this data block with provided values.\n",
    "\n",
    "    def __eq__(self, other):\n",
    "        mismatch_count = 0\n",
    "        for key, value in self.data.items():\n",
    "            default_values = self.default_values[key]\n",
    "            if other.data[key] != value:\n",
    "                print(f\"{key} = {value} (Default: {default_values})\")\n",
    "                mismatch_count += 1\n",
    "        print(f\"Unequal elements: {mismatch_count}\")\n",
    "        return mismatch_count == 0\n",
    "          \n",
    "    # Return chosen item from data block on request, based on field name.\n",
    "\n",
    "    def request_item(self,field_name):\n",
    "        if field_name in self.data:\n",
    "            print(f\"{field_name}: {self.data[field_name]}\")\n",
    "            return self.data[field_name]"
   ]
  },
  {
   "cell_type": "code",
   "execution_count": 32,
   "metadata": {},
   "outputs": [],
   "source": [
    "# Update the instance with the new value of data and print out each item of the content on a separate line.\n",
    "\n",
    "data_block1 = IandM()\n",
    "\n",
    "test_data1 = b'\\x00 \\x008\\x01\\x00\\x00*6ES7 146-6HE00-0BB0 S CPNRJ60012022\\x00\\x01B3\\x01\\x0c\\x00\\x00\\x00\\x00\\x00\\x05\\x01\\x01\\x00\\x0f'\n",
    "data_block1.update(test_data1)\n",
    "\n",
    "data_block2 = IandM()\n",
    "\n",
    "test_data2 = b'\\x00 \\x007\\x01\\x00\\x00*6ES7 146-6HE00-0BB0 S CPNRJ60012022\\x00\\x01B3\\x01\\x0c\\x00\\x00\\x00\\x00\\x00\\x05\\x01\\x01\\x00\\x0f'\n",
    "data_block2.update(test_data2)"
   ]
  },
  {
   "cell_type": "code",
   "execution_count": 33,
   "metadata": {},
   "outputs": [
    {
     "data": {
      "text/plain": [
       "Block Header = 137442623744\n",
       "Manufacture ID = 42\n",
       "Order Number = 6ES7 146-6HE00-0BB0\n",
       "Serial Number = S CPNRJ60012022\u0000\n",
       "Hardware revision = 322\n",
       "Software revision = 855706624\n",
       "Revision status = 0\n",
       "Profile ID = 0\n",
       "Profile-specific type = 1281\n",
       "I&M Version = b'\\x01\\x00'\n",
       "I&M Support = 15"
      ]
     },
     "execution_count": 33,
     "metadata": {},
     "output_type": "execute_result"
    }
   ],
   "source": [
    "data_block1"
   ]
  },
  {
   "cell_type": "code",
   "execution_count": 34,
   "metadata": {},
   "outputs": [
    {
     "data": {
      "text/plain": [
       "Block Header = 137442558208\n",
       "Manufacture ID = 42\n",
       "Order Number = 6ES7 146-6HE00-0BB0\n",
       "Serial Number = S CPNRJ60012022\u0000\n",
       "Hardware revision = 322\n",
       "Software revision = 855706624\n",
       "Revision status = 0\n",
       "Profile ID = 0\n",
       "Profile-specific type = 1281\n",
       "I&M Version = b'\\x01\\x00'\n",
       "I&M Support = 15"
      ]
     },
     "execution_count": 34,
     "metadata": {},
     "output_type": "execute_result"
    }
   ],
   "source": [
    "data_block2"
   ]
  },
  {
   "cell_type": "code",
   "execution_count": 35,
   "metadata": {},
   "outputs": [
    {
     "name": "stdout",
     "output_type": "stream",
     "text": [
      "Block Header = 137442623744 (Default: b'\\x00 * 6')\n",
      "Unequal elements: 1\n"
     ]
    },
    {
     "data": {
      "text/plain": [
       "False"
      ]
     },
     "execution_count": 35,
     "metadata": {},
     "output_type": "execute_result"
    }
   ],
   "source": [
    "# Compares content item-by-item with the default values and print out the items, which does not match. Returns 0 if all items are equal, otherwise, returns number of unequal elements.\n",
    "\n",
    "data_block1 == data_block2"
   ]
  },
  {
   "cell_type": "code",
   "execution_count": 36,
   "metadata": {},
   "outputs": [
    {
     "name": "stdout",
     "output_type": "stream",
     "text": [
      "Manufacture ID: 42\n"
     ]
    }
   ],
   "source": [
    "# Get the value of a specific field\n",
    "\n",
    "field_name = str(input(\"Please enter the field you are interested in: \"))\n",
    "requested_item = data_block1.request_item(field_name)"
   ]
  }
 ],
 "metadata": {
  "kernelspec": {
   "display_name": "Python 3",
   "language": "python",
   "name": "python3"
  },
  "language_info": {
   "codemirror_mode": {
    "name": "ipython",
    "version": 3
   },
   "file_extension": ".py",
   "mimetype": "text/x-python",
   "name": "python",
   "nbconvert_exporter": "python",
   "pygments_lexer": "ipython3",
   "version": "3.9.10"
  },
  "orig_nbformat": 4
 },
 "nbformat": 4,
 "nbformat_minor": 2
}
